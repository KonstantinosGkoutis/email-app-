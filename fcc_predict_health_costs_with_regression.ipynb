{
  "cells": [
    {
      "cell_type": "markdown",
      "metadata": {
        "id": "view-in-github",
        "colab_type": "text"
      },
      "source": [
        "<a href=\"https://colab.research.google.com/github/KonstantinosGkoutis/email-app-/blob/main/fcc_predict_health_costs_with_regression.ipynb\" target=\"_parent\"><img src=\"https://colab.research.google.com/assets/colab-badge.svg\" alt=\"Open In Colab\"/></a>"
      ]
    },
    {
      "cell_type": "code",
      "execution_count": null,
      "metadata": {
        "id": "1rRo8oNqZ-Rj"
      },
      "outputs": [],
      "source": [
        "# Import necessary libraries\n",
        "import pandas as pd\n",
        "import numpy as np\n",
        "import tensorflow as tf\n",
        "from tensorflow.keras import Sequential\n",
        "from tensorflow.keras.layers import Dense\n",
        "from sklearn.model_selection import train_test_split\n",
        "from sklearn.preprocessing import StandardScaler, OneHotEncoder\n",
        "from sklearn.compose import ColumnTransformer"
      ]
    },
    {
      "cell_type": "code",
      "execution_count": null,
      "metadata": {
        "id": "CiX2FI4gZtTt"
      },
      "outputs": [],
      "source": [
        "# Load the dataset\n",
        "df = pd.read_csv('healthcare_costs.csv')"
      ]
    },
    {
      "cell_type": "code",
      "execution_count": null,
      "metadata": {
        "id": "LcopvQh3X-kX"
      },
      "outputs": [],
      "source": [
        "# Preprocessing: Convert categorical data to numerical data\n",
        "categorical_columns = ['sex', 'smoker', 'region']\n",
        "numerical_columns = ['age', 'bmi', 'children']"
      ]
    },
    {
      "cell_type": "code",
      "execution_count": null,
      "metadata": {
        "id": "Xe7RXH3N3CWU"
      },
      "outputs": [],
      "source": [
        "# One-hot encode categorical variables\n",
        "preprocessor = ColumnTransformer([\n",
        "    ('onehot', OneHotEncoder(drop='first'), categorical_columns),\n",
        "    ('scale', StandardScaler(), numerical_columns)\n",
        "])\n",
        "\n",
        "# Prepare features and labels\n",
        "X = df.drop(columns=['expenses'])\n",
        "y = df['expenses']\n",
        "\n",
        "# Apply transformations\n",
        "X_transformed = preprocessor.fit_transform(X)\n",
        "\n",
        "# Split the data into training (80%) and testing (20%) sets\n",
        "train_dataset, test_dataset, train_labels, test_labels = train_test_split(\n",
        "    X_transformed, y, test_size=0.2, random_state=42\n",
        ")\n",
        "\n",
        "# Build the regression model\n",
        "model = Sequential([\n",
        "    Dense(64, activation='relu', input_shape=(train_dataset.shape[1],)),\n",
        "    Dense(32, activation='relu'),\n",
        "    Dense(16, activation='relu'),\n",
        "    Dense(1)  # Single output neuron for regression\n",
        "])\n",
        "\n",
        "# Compile the model\n",
        "model.compile(optimizer='adam', loss='mae', metrics=['mae'])\n",
        "\n",
        "# Train the model\n",
        "history = model.fit(train_dataset, train_labels, epochs=100, batch_size=32, validation_split=0.2, verbose=0)\n",
        "\n",
        "# Evaluate the model\n",
        "test_loss, test_mae = model.evaluate(test_dataset, test_labels, verbose=0)\n",
        "print(f\"Mean Absolute Error on Test Data: ${test_mae:.2f}\")\n",
        "\n",
        "# Check if the MAE requirement is met\n",
        "if test_mae < 3500:\n",
        "    print(\"Challenge Passed! Model meets the required accuracy.\")\n",
        "else:\n",
        "    print(\"Challenge Failed. Try adjusting the model.\")\n",
        "\n",
        "# Predict expenses on the test dataset\n",
        "predicted_expenses = model.predict(test_dataset).flatten()\n",
        "\n",
        "# Plot actual vs predicted expenses\n",
        "import matplotlib.pyplot as plt\n",
        "\n",
        "plt.scatter(test_labels, predicted_expenses, alpha=0.5)\n",
        "plt.xlabel(\"Actual Expenses\")\n",
        "plt.ylabel(\"Predicted Expenses\")\n",
        "plt.title(\"Actual vs Predicted Healthcare Costs\")\n",
        "plt.plot([min(test_labels), max(test_labels)], [min(test_labels), max(test_labels)], color='red')\n",
        "plt.show()\n"
      ]
    }
  ],
  "metadata": {
    "colab": {
      "name": "fcc_predict_health_costs_with_regression.ipynb",
      "private_outputs": true,
      "provenance": [],
      "toc_visible": true,
      "include_colab_link": true
    },
    "kernelspec": {
      "display_name": "Python 3",
      "name": "python3"
    }
  },
  "nbformat": 4,
  "nbformat_minor": 0
}