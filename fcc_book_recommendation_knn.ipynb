{
  "cells": [
    {
      "cell_type": "markdown",
      "metadata": {
        "id": "view-in-github",
        "colab_type": "text"
      },
      "source": [
        "<a href=\"https://colab.research.google.com/github/KonstantinosGkoutis/email-app-/blob/main/fcc_book_recommendation_knn.ipynb\" target=\"_parent\"><img src=\"https://colab.research.google.com/assets/colab-badge.svg\" alt=\"Open In Colab\"/></a>"
      ]
    },
    {
      "cell_type": "code",
      "execution_count": null,
      "metadata": {
        "id": "Y1onB6kUvo4Z"
      },
      "outputs": [],
      "source": [
        "# Import necessary libraries\n",
        "import pandas as pd\n",
        "from sklearn.neighbors import NearestNeighbors\n",
        "import numpy as np"
      ]
    },
    {
      "cell_type": "code",
      "execution_count": null,
      "metadata": {
        "id": "iAQGqqO_vo4d"
      },
      "outputs": [],
      "source": [
        "# Load the dataset (assuming CSV format)\n",
        "df = pd.read_csv('books_ratings.csv')"
      ]
    },
    {
      "cell_type": "code",
      "execution_count": null,
      "metadata": {
        "id": "NClILWOiEd6Q"
      },
      "outputs": [],
      "source": [
        "# Data Cleaning and Filtering\n",
        "# Remove users with fewer than 200 ratings\n",
        "user_counts = df['user_id'].value_counts()\n",
        "df = df[df['user_id'].isin(user_counts[user_counts >= 200].index)]"
      ]
    },
    {
      "cell_type": "code",
      "execution_count": null,
      "metadata": {
        "id": "xAcXjkCFCh0A"
      },
      "outputs": [],
      "source": [
        "# add your code here - consider creating a new cell for each section of code"
      ]
    },
    {
      "cell_type": "code",
      "execution_count": null,
      "metadata": {
        "id": "f5ZUd-L1SQz7"
      },
      "outputs": [],
      "source": [
        "# Remove books with fewer than 100 ratings\n",
        "book_counts = df['book_title'].value_counts()\n",
        "df = df[df['book_title'].isin(book_counts[book_counts >= 100].index)]"
      ]
    },
    {
      "cell_type": "code",
      "execution_count": null,
      "metadata": {
        "id": "jd2SLCh8oxMh"
      },
      "outputs": [],
      "source": [
        "# Pivot the table to create a user-item matrix\n",
        "user_item_matrix = df.pivot_table(index='book_title', columns='user_id', values='rating').fillna(0)\n",
        "\n",
        "# Pivot the table to create a user-item matrix\n",
        "user_item_matrix = df.pivot_table(index='book_title', columns='user_id', values='rating').fillna(0)\n",
        "\n",
        "# Fit the Nearest Neighbors model\n",
        "model = NearestNeighbors(metric='cosine', algorithm='brute')\n",
        "model.fit(user_item_matrix)\n",
        "\n",
        "# Function to get book recommendations\n",
        "def get_recommends(book_title):\n",
        "    if book_title not in user_item_matrix.index:\n",
        "        return [book_title, []]\n",
        "\n",
        "    # Find the index of the book\n",
        "    book_index = user_item_matrix.index.get_loc(book_title)\n",
        "\n",
        "    # Compute distances and indices of the nearest neighbors\n",
        "    distances, indices = model.kneighbors(user_item_matrix.iloc[book_index, :].values.reshape(1, -1), n_neighbors=6)\n",
        "\n",
        "    # Prepare the list of recommended books\n",
        "    recommended_books = [\n",
        "        [user_item_matrix.index[idx], distances.flatten()[i]]\n",
        "        for i, idx in enumerate(indices.flatten())\n",
        "        if idx != book_index\n",
        "    ]\n",
        "\n",
        "    return [book_title, recommended_books]\n",
        "\n",
        "# Testing the function\n",
        "recommendations = get_recommends(\"The Queen of the Damned (Vampire Chronicles (Paperback))\")\n",
        "print(recommendations)\n"
      ]
    }
  ],
  "metadata": {
    "colab": {
      "name": "fcc_book_recommendation_knn.ipynb",
      "provenance": [],
      "include_colab_link": true
    },
    "kernelspec": {
      "display_name": "Python 3",
      "language": "python",
      "name": "python3"
    },
    "language_info": {
      "codemirror_mode": {
        "name": "ipython",
        "version": 3
      },
      "file_extension": ".py",
      "mimetype": "text/x-python",
      "name": "python",
      "nbconvert_exporter": "python",
      "pygments_lexer": "ipython3",
      "version": "3.6.5"
    }
  },
  "nbformat": 4,
  "nbformat_minor": 0
}